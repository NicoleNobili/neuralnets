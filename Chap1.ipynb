{
 "metadata": {
  "language_info": {
   "codemirror_mode": {
    "name": "ipython",
    "version": 3
   },
   "file_extension": ".py",
   "mimetype": "text/x-python",
   "name": "python",
   "nbconvert_exporter": "python",
   "pygments_lexer": "ipython3",
   "version": "3.9.1"
  },
  "orig_nbformat": 2,
  "kernelspec": {
   "name": "python3",
   "display_name": "Python 3.9.1 64-bit",
   "metadata": {
    "interpreter": {
     "hash": "696f1b3f4ec608302c0ac7d485b61cbe5cb6c2ed50640f9120220e665ff62020"
    }
   }
  }
 },
 "nbformat": 4,
 "nbformat_minor": 2,
 "cells": [
  {
   "cell_type": "code",
   "execution_count": 48,
   "metadata": {},
   "outputs": [
    {
     "output_type": "stream",
     "name": "stdout",
     "text": [
      "[0.11994447 0.81654209 0.68614579] [0.46787285 0.02217175 0.57822525 0.07887799] [[0.90486648 0.64914063 0.27102502]\n [0.81805523 0.2060596  0.03429693]\n [0.48500975 0.70475528 0.09312462]\n [0.5548043  0.83458166 0.5058227 ]]\n"
     ]
    }
   ],
   "source": [
    "import numpy as np\n",
    "\n",
    "input_size = 3\n",
    "neuron_number = 4\n",
    "\n",
    "inputs = np.random.rand(input_size)\n",
    "biases = np.random.rand(neuron_number)\n",
    "weights = np.random.rand(neuron_number, input_size)\n",
    "\n",
    "outputs = []\n",
    "\n",
    "print(inputs, biases, weights)"
   ]
  },
  {
   "source": [
    "#METHOD 1: coding our first neurons not using numpy.\n",
    "#neural network with three neurons and two inputs:\n",
    "import numpy as np\n",
    "neuron_number = 2\n",
    "inputs = [3,5,6,7]\n",
    "weights = [[4,6,2,0],[3,6,3,2]]\n",
    "biases = [3,5]\n",
    "outputs = []\n",
    "for neuron_weights, neuron_bias in zip(weights, biases):\n",
    "    print(neuron_weights,neuron_bias)\n",
    "    neuron_output = 0\n",
    "    for elem, weight in zip (inputs, neuron_weights):\n",
    "        neuron_output =+ elem*weight\n",
    "    neuron_output =+ neuron_bias\n",
    "    outputs.append(neuron_output)\n",
    "print(outputs)\n"
   ],
   "cell_type": "code",
   "metadata": {},
   "execution_count": 44,
   "outputs": [
    {
     "output_type": "stream",
     "name": "stdout",
     "text": [
      "[3, 5]\n"
     ]
    }
   ]
  },
  {
   "cell_type": "code",
   "execution_count": 45,
   "metadata": {},
   "outputs": [
    {
     "output_type": "execute_result",
     "data": {
      "text/plain": [
       "[57, 76]"
      ]
     },
     "metadata": {},
     "execution_count": 45
    }
   ],
   "source": [
    "#METHOD2: using numpy dot product\n",
    "outputs2 = []\n",
    "\n",
    "neuron_number = 2\n",
    "inputs = [3,5,6,7]\n",
    "weights = [[4,6,2,0],[3,6,3,2]]\n",
    "biases = [3,5]\n",
    "for i in range(neuron_number):\n",
    "    output = np.dot(weights[i], inputs) + biases[i]\n",
    "    outputs2.append(output)\n",
    "outputs2"
   ]
  },
  {
   "cell_type": "code",
   "execution_count": 47,
   "metadata": {},
   "outputs": [],
   "source": [
    "rana = [3,2]"
   ]
  }
 ]
}